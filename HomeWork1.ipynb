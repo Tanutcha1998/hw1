{
 "cells": [
  {
   "cell_type": "markdown",
   "metadata": {},
   "source": [
    "# แนะนำตัว\n",
    "### ชื่อ-นามสกุล : นางสาวธนัชชา ขุนทอง\n",
    "### รหัสนักศึกษา : 603020472-3\n",
    "### หลักสูตร : สารสนเทศสถิติ"
   ]
  },
  {
   "cell_type": "markdown",
   "metadata": {},
   "source": [
    "# หัวข้อนำเสนอ\n",
    "### 1. How to install Python\n",
    "### 2. การใช้งาน Google Colab\n",
    "### 3. การใช้งาน Github"
   ]
  },
  {
   "cell_type": "markdown",
   "metadata": {},
   "source": [
    "# 1. How to install Python"
   ]
  },
  {
   "cell_type": "markdown",
   "metadata": {},
   "source": [
    "1. ขั้นตอนแรกเราจะต้องทำการ Download Miniconda กันก่อน ซึ่งสามารถโหลดได้"
   ]
  }
 ],
 "metadata": {
  "kernelspec": {
   "display_name": "Python 3",
   "language": "python",
   "name": "python3"
  },
  "language_info": {
   "codemirror_mode": {
    "name": "ipython",
    "version": 3
   },
   "file_extension": ".py",
   "mimetype": "text/x-python",
   "name": "python",
   "nbconvert_exporter": "python",
   "pygments_lexer": "ipython3",
   "version": "3.7.4"
  }
 },
 "nbformat": 4,
 "nbformat_minor": 2
}
