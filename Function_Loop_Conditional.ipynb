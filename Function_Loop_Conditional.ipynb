{
 "cells": [
  {
   "cell_type": "markdown",
   "metadata": {},
   "source": [
    "# บันทึกบทเรียนครั้งที่ 3\n",
    "#### ชื่อ : นางสาวธนัชชา ขุนทอง  รหัสนักศึกษา : 603020472-3"
   ]
  },
  {
   "cell_type": "markdown",
   "metadata": {},
   "source": [
    "# Function\n",
    "#### print ชื่อ xxx นามสกุล YYY รหัสนักศึกษา ZZZ\n",
    "#### print เกรด วิชา Stat 1 >>> AAA"
   ]
  },
  {
   "cell_type": "code",
   "execution_count": 1,
   "metadata": {},
   "outputs": [
    {
     "name": "stdout",
     "output_type": "stream",
     "text": [
      "ชื่อ ธนัชชา นามสกุล ขุนทอง รหัส 000\n"
     ]
    }
   ],
   "source": [
    "a = 'ชื่อ ธนัชชา นามสกุล ขุนทอง รหัส 000'\n",
    "print(a)"
   ]
  },
  {
   "cell_type": "code",
   "execution_count": 2,
   "metadata": {},
   "outputs": [
    {
     "name": "stdout",
     "output_type": "stream",
     "text": [
      "ชื่อ Tanutcha นามสกุล Khunthong รหัส 009\n"
     ]
    }
   ],
   "source": [
    "name = 'Tanutcha'\n",
    "surname = 'Khunthong'\n",
    "ID = '009'\n",
    "\n",
    "b = f'ชื่อ {name} นามสกุล {surname} รหัส {ID}'\n",
    "print(b)"
   ]
  },
  {
   "cell_type": "markdown",
   "metadata": {},
   "source": [
    "## วิธีการสร้าง Function\n",
    "```python\n",
    "    def function_name(Input):\n",
    "        do_something\n",
    "        return Output\n",
    "```\n",
    "#### normal function"
   ]
  },
  {
   "cell_type": "code",
   "execution_count": 3,
   "metadata": {},
   "outputs": [],
   "source": [
    "def print_line1(name1,surname1,ID1):\n",
    "    st = f'ชื่อ {name1} นามสกุล {surname1} รหัส {ID1}'\n",
    "    return st"
   ]
  },
  {
   "cell_type": "code",
   "execution_count": 4,
   "metadata": {},
   "outputs": [
    {
     "name": "stdout",
     "output_type": "stream",
     "text": [
      "ชื่อ ธนัชชา นามสกุล ขุนทอง รหัส 603020472-3\n"
     ]
    }
   ],
   "source": [
    "print(print_line1('ธนัชชา','ขุนทอง','603020472-3'))"
   ]
  },
  {
   "cell_type": "markdown",
   "metadata": {},
   "source": [
    "#### function without output (ไม่มีoutput)"
   ]
  },
  {
   "cell_type": "code",
   "execution_count": 5,
   "metadata": {},
   "outputs": [],
   "source": [
    "def print_2lines(name1,surname1,ID1,grade):\n",
    "    st = f'ชื่อ {name1} นามสกุล {surname1} รหัส {ID1}'\n",
    "    print(st)\n",
    "    st2 = f'เกรดวิชา Stat1 >>> {grade}'\n",
    "    print(st2)"
   ]
  },
  {
   "cell_type": "code",
   "execution_count": 6,
   "metadata": {},
   "outputs": [
    {
     "name": "stdout",
     "output_type": "stream",
     "text": [
      "ชื่อ ธนัชชา นามสกุล ขุนทอง รหัส 603020472-3\n",
      "เกรดวิชา Stat1 >>> B+\n"
     ]
    }
   ],
   "source": [
    "print_2lines('ธนัชชา','ขุนทอง','603020472-3','B+')"
   ]
  },
  {
   "cell_type": "code",
   "execution_count": 7,
   "metadata": {},
   "outputs": [
    {
     "name": "stdout",
     "output_type": "stream",
     "text": [
      "ชื่อ ธนัชชา นามสกุล ขุนทอง รหัส 603020472-3\n",
      "เกรดวิชา Stat1 >>> B+\n",
      "ชื่อ ภัทรรรธน์ นามสกุล ใจเที่ยง รหัส 603021866-7\n",
      "เกรดวิชา Stat1 >>> B+\n",
      "ชื่อ โสภิตา นามสกุล แสงขาว รหัส 603021889-5\n",
      "เกรดวิชา Stat1 >>> B\n",
      "ชื่อ กรวิชญ์ นามสกุล ทะรังศรี รหัส 613020188-1\n",
      "เกรดวิชา Stat1 >>> A\n"
     ]
    }
   ],
   "source": [
    "print_2lines('ธนัชชา','ขุนทอง','603020472-3','B+')\n",
    "print_2lines('ภัทรรรธน์','ใจเที่ยง','603021866-7','B+')\n",
    "print_2lines('โสภิตา','แสงขาว','603021889-5','B')\n",
    "print_2lines('กรวิชญ์','ทะรังศรี','613020188-1','A')"
   ]
  },
  {
   "cell_type": "markdown",
   "metadata": {},
   "source": [
    "#### function without input (ไม่มีinput)\n",
    "ไม่ค่อยได้ใช้"
   ]
  },
  {
   "cell_type": "code",
   "execution_count": 8,
   "metadata": {},
   "outputs": [],
   "source": [
    "def two_x_three():\n",
    "    X = 2*3\n",
    "    return X"
   ]
  },
  {
   "cell_type": "code",
   "execution_count": 9,
   "metadata": {},
   "outputs": [
    {
     "data": {
      "text/plain": [
       "6"
      ]
     },
     "execution_count": 9,
     "metadata": {},
     "output_type": "execute_result"
    }
   ],
   "source": [
    "two_x_three()"
   ]
  },
  {
   "cell_type": "markdown",
   "metadata": {},
   "source": [
    "#### function with default argument"
   ]
  },
  {
   "cell_type": "code",
   "execution_count": 10,
   "metadata": {},
   "outputs": [],
   "source": [
    "def print_2lines_default(name1,surname1,ID1,grade='F'):\n",
    "    st = f'ชื่อ {name1} นามสกุล {surname1} รหัส {ID1}'\n",
    "    print(st)\n",
    "    st2 = f'เกรดวิชา Stat1 >>> {grade}'\n",
    "    print(st2)"
   ]
  },
  {
   "cell_type": "code",
   "execution_count": 11,
   "metadata": {},
   "outputs": [
    {
     "name": "stdout",
     "output_type": "stream",
     "text": [
      "ชื่อ ธนัชชา นามสกุล ขุนทอง รหัส 603020472-3\n",
      "เกรดวิชา Stat1 >>> F\n"
     ]
    }
   ],
   "source": [
    "print_2lines_default('ธนัชชา','ขุนทอง','603020472-3')"
   ]
  },
  {
   "cell_type": "code",
   "execution_count": 12,
   "metadata": {},
   "outputs": [
    {
     "name": "stdout",
     "output_type": "stream",
     "text": [
      "ชื่อ ธนัชชา นามสกุล ขุนทอง รหัส 603020472-3\n",
      "เกรดวิชา Stat1 >>> B+\n"
     ]
    }
   ],
   "source": [
    "print_2lines_default('ธนัชชา','ขุนทอง','603020472-3','B+')"
   ]
  },
  {
   "cell_type": "code",
   "execution_count": 13,
   "metadata": {},
   "outputs": [
    {
     "name": "stdout",
     "output_type": "stream",
     "text": [
      "ชื่อ ขุนทอง นามสกุล ธนัชชา รหัส 603020472-3\n",
      "เกรดวิชา Stat1 >>> F\n"
     ]
    }
   ],
   "source": [
    "print_2lines_default(surname1 = 'ธนัชชา', name1 = 'ขุนทอง',ID1 = '603020472-3')"
   ]
  },
  {
   "cell_type": "markdown",
   "metadata": {},
   "source": [
    "# Loop (การวนซ้ำ)"
   ]
  },
  {
   "cell_type": "markdown",
   "metadata": {},
   "source": [
    "```python\n",
    "for each_member in listA:\n",
    "    do something\n",
    "```"
   ]
  },
  {
   "cell_type": "code",
   "execution_count": 14,
   "metadata": {},
   "outputs": [
    {
     "name": "stdout",
     "output_type": "stream",
     "text": [
      "1\n",
      "2\n",
      "3\n"
     ]
    }
   ],
   "source": [
    "for i in [1,2,3]:\n",
    "    print(i)"
   ]
  },
  {
   "cell_type": "code",
   "execution_count": 15,
   "metadata": {},
   "outputs": [
    {
     "name": "stdout",
     "output_type": "stream",
     "text": [
      "T -> /\n",
      "h -> /\n",
      "a -> /\n",
      "n -> /\n",
      "u -> /\n",
      "t -> /\n",
      "c -> /\n",
      "h -> /\n",
      "a -> /\n"
     ]
    }
   ],
   "source": [
    "for i in 'Thanutcha':\n",
    "    print(f'{i} -> /')"
   ]
  },
  {
   "cell_type": "code",
   "execution_count": 16,
   "metadata": {},
   "outputs": [
    {
     "name": "stdout",
     "output_type": "stream",
     "text": [
      "T -> /\n",
      "\n",
      "h -> /\n",
      "\n",
      "a -> /\n",
      "\n",
      "n -> /\n",
      "\n",
      "u -> /\n",
      "\n",
      "t -> /\n",
      "\n",
      "c -> /\n",
      "\n",
      "h -> /\n",
      "\n",
      "a -> /\n",
      "\n"
     ]
    }
   ],
   "source": [
    "for i in 'Thanutcha':\n",
    "    print(f'{i} -> /')\n",
    "    print('')"
   ]
  },
  {
   "cell_type": "markdown",
   "metadata": {},
   "source": [
    "### workshop (Function in loop)\n",
    "#### 1 สร้าง list ชื่อเพื่อน ที่อยู่ไว้ในแถวเดียวกัน\n",
    "#### 1.5 สร้าง function print ประโยคว่า XXXเรา YYYความรู้สึก zzzเพื่อน ทุกคนในแถว\n",
    "#### 2 วนลูป เรียก function โดยเปลี่ยนชื่อเพื่อนไปเรื่อยๆ"
   ]
  },
  {
   "cell_type": "code",
   "execution_count": 17,
   "metadata": {},
   "outputs": [],
   "source": [
    "friends = ['เจมส์','ฝน','พี่บูม','น้องแคมป์','แตงโม','พี่เจ็ทจะย่อง']"
   ]
  },
  {
   "cell_type": "code",
   "execution_count": 18,
   "metadata": {},
   "outputs": [
    {
     "data": {
      "text/plain": [
       "['เจมส์', 'ฝน', 'พี่บูม', 'น้องแคมป์', 'แตงโม', 'พี่เจ็ทจะย่อง']"
      ]
     },
     "execution_count": 18,
     "metadata": {},
     "output_type": "execute_result"
    }
   ],
   "source": [
    "friends"
   ]
  },
  {
   "cell_type": "code",
   "execution_count": 19,
   "metadata": {},
   "outputs": [],
   "source": [
    "def I_Feel(MyName,Fname,Feel):\n",
    "    A = f'{MyName} {Feel} {Fname}'\n",
    "    print(A)"
   ]
  },
  {
   "cell_type": "code",
   "execution_count": 20,
   "metadata": {},
   "outputs": [
    {
     "name": "stdout",
     "output_type": "stream",
     "text": [
      "ดายน์ รัก เจมส์\n",
      "ดายน์ รัก ฝน\n",
      "ดายน์ รัก พี่บูม\n",
      "ดายน์ รัก น้องแคมป์\n",
      "ดายน์ รัก แตงโม\n",
      "ดายน์ รัก พี่เจ็ทจะย่อง\n"
     ]
    }
   ],
   "source": [
    "for i in friends:\n",
    "    I_Feel('ดายน์',i,'รัก')"
   ]
  },
  {
   "cell_type": "markdown",
   "metadata": {},
   "source": [
    "### loop in loop (By.workshop)"
   ]
  },
  {
   "cell_type": "code",
   "execution_count": 21,
   "metadata": {},
   "outputs": [
    {
     "name": "stdout",
     "output_type": "stream",
     "text": [
      "เจมส์ รัก เจมส์\n",
      "เจมส์ รัก ฝน\n",
      "เจมส์ รัก พี่บูม\n",
      "เจมส์ รัก น้องแคมป์\n",
      "เจมส์ รัก แตงโม\n",
      "เจมส์ รัก พี่เจ็ทจะย่อง\n",
      "ฝน รัก เจมส์\n",
      "ฝน รัก ฝน\n",
      "ฝน รัก พี่บูม\n",
      "ฝน รัก น้องแคมป์\n",
      "ฝน รัก แตงโม\n",
      "ฝน รัก พี่เจ็ทจะย่อง\n",
      "พี่บูม รัก เจมส์\n",
      "พี่บูม รัก ฝน\n",
      "พี่บูม รัก พี่บูม\n",
      "พี่บูม รัก น้องแคมป์\n",
      "พี่บูม รัก แตงโม\n",
      "พี่บูม รัก พี่เจ็ทจะย่อง\n",
      "น้องแคมป์ รัก เจมส์\n",
      "น้องแคมป์ รัก ฝน\n",
      "น้องแคมป์ รัก พี่บูม\n",
      "น้องแคมป์ รัก น้องแคมป์\n",
      "น้องแคมป์ รัก แตงโม\n",
      "น้องแคมป์ รัก พี่เจ็ทจะย่อง\n",
      "แตงโม รัก เจมส์\n",
      "แตงโม รัก ฝน\n",
      "แตงโม รัก พี่บูม\n",
      "แตงโม รัก น้องแคมป์\n",
      "แตงโม รัก แตงโม\n",
      "แตงโม รัก พี่เจ็ทจะย่อง\n",
      "พี่เจ็ทจะย่อง รัก เจมส์\n",
      "พี่เจ็ทจะย่อง รัก ฝน\n",
      "พี่เจ็ทจะย่อง รัก พี่บูม\n",
      "พี่เจ็ทจะย่อง รัก น้องแคมป์\n",
      "พี่เจ็ทจะย่อง รัก แตงโม\n",
      "พี่เจ็ทจะย่อง รัก พี่เจ็ทจะย่อง\n"
     ]
    }
   ],
   "source": [
    "for Name1 in friends:\n",
    "    for Name2 in friends:\n",
    "        I_Feel(Name1,Name2,'รัก')"
   ]
  },
  {
   "cell_type": "markdown",
   "metadata": {},
   "source": [
    "### loop in function"
   ]
  },
  {
   "cell_type": "code",
   "execution_count": 22,
   "metadata": {},
   "outputs": [],
   "source": [
    "def print_feeling(I,feeling,friends):\n",
    "    for friend in friends:\n",
    "        print(f'{I} {feeling} {friend}')"
   ]
  },
  {
   "cell_type": "code",
   "execution_count": 23,
   "metadata": {},
   "outputs": [
    {
     "name": "stdout",
     "output_type": "stream",
     "text": [
      "ดายน์ เซ็ง! เจมส์\n",
      "ดายน์ เซ็ง! ฝน\n",
      "ดายน์ เซ็ง! พี่บูม\n",
      "ดายน์ เซ็ง! น้องแคมป์\n",
      "ดายน์ เซ็ง! แตงโม\n",
      "ดายน์ เซ็ง! พี่เจ็ทจะย่อง\n"
     ]
    }
   ],
   "source": [
    "print_feeling('ดายน์','เซ็ง!',friends)"
   ]
  },
  {
   "cell_type": "markdown",
   "metadata": {},
   "source": [
    "หรือจะสร้าง list ชื่อเพื่อนขึ้นมาใหม่"
   ]
  },
  {
   "cell_type": "code",
   "execution_count": 24,
   "metadata": {},
   "outputs": [
    {
     "name": "stdout",
     "output_type": "stream",
     "text": [
      "ดายน์ เซ็ง! ฝน\n"
     ]
    }
   ],
   "source": [
    "print_feeling('ดายน์','เซ็ง!',['ฝน'])"
   ]
  },
  {
   "cell_type": "markdown",
   "metadata": {},
   "source": [
    "แต่!!! ถ้าไม่สร้าง list แล้วพิมพ์ชื่อเพื่อนเป็น string ไปเลยจะออกมาดังนี้"
   ]
  },
  {
   "cell_type": "code",
   "execution_count": 25,
   "metadata": {},
   "outputs": [
    {
     "name": "stdout",
     "output_type": "stream",
     "text": [
      "ดายน์ เซ็ง! ฝ\n",
      "ดายน์ เซ็ง! น\n"
     ]
    }
   ],
   "source": [
    "print_feeling('ดายน์','เซ็ง!','ฝน')"
   ]
  },
  {
   "cell_type": "markdown",
   "metadata": {},
   "source": [
    "### looping in dict\n",
    "ทบทวน dict"
   ]
  },
  {
   "cell_type": "code",
   "execution_count": 26,
   "metadata": {},
   "outputs": [
    {
     "data": {
      "text/plain": [
       "{'พันทิพา': 'B', 'ศุภนิตา': 'C', 'ปนัดดา': 'A', 'ทรงกลด': 'F'}"
      ]
     },
     "execution_count": 26,
     "metadata": {},
     "output_type": "execute_result"
    }
   ],
   "source": [
    "name_grade = {'พันทิพา':'B','ศุภนิตา':'C','ปนัดดา':'A','ทรงกลด':'F'}\n",
    "name_grade"
   ]
  },
  {
   "cell_type": "code",
   "execution_count": 27,
   "metadata": {},
   "outputs": [
    {
     "data": {
      "text/plain": [
       "'A'"
      ]
     },
     "execution_count": 27,
     "metadata": {},
     "output_type": "execute_result"
    }
   ],
   "source": [
    "name_grade['ปนัดดา']"
   ]
  },
  {
   "cell_type": "markdown",
   "metadata": {},
   "source": [
    "เริ่ม!! วนloopไปเลย\n",
    "\n",
    ".keys() เป็นคำสั่งที่ช่วยดูว่าคีย์ของดิกคืออะไร"
   ]
  },
  {
   "cell_type": "code",
   "execution_count": 28,
   "metadata": {},
   "outputs": [
    {
     "data": {
      "text/plain": [
       "dict_keys(['พันทิพา', 'ศุภนิตา', 'ปนัดดา', 'ทรงกลด'])"
      ]
     },
     "execution_count": 28,
     "metadata": {},
     "output_type": "execute_result"
    }
   ],
   "source": [
    "name_grade.keys()"
   ]
  },
  {
   "cell_type": "code",
   "execution_count": 29,
   "metadata": {},
   "outputs": [
    {
     "name": "stdout",
     "output_type": "stream",
     "text": [
      "พันทิพา\n",
      "ศุภนิตา\n",
      "ปนัดดา\n",
      "ทรงกลด\n"
     ]
    }
   ],
   "source": [
    "for i in name_grade.keys():\n",
    "    print(i)"
   ]
  },
  {
   "cell_type": "code",
   "execution_count": 30,
   "metadata": {},
   "outputs": [
    {
     "name": "stdout",
     "output_type": "stream",
     "text": [
      "พันทิพา ได้เกรด B\n",
      "ศุภนิตา ได้เกรด C\n",
      "ปนัดดา ได้เกรด A\n",
      "ทรงกลด ได้เกรด F\n"
     ]
    }
   ],
   "source": [
    "for i in name_grade.keys():\n",
    "    print(f'{i} ได้เกรด {name_grade[i]}')"
   ]
  },
  {
   "cell_type": "markdown",
   "metadata": {},
   "source": [
    "# Conditional (if / else)"
   ]
  },
  {
   "cell_type": "markdown",
   "metadata": {},
   "source": [
    "```python\n",
    "if condition1:\n",
    "    do something\n",
    "elif condition2:\n",
    "    do another thing\n",
    "else:\n",
    "    do...\n",
    "```\n",
    "*!= คือ ไม่เท่ากับ"
   ]
  },
  {
   "cell_type": "code",
   "execution_count": 31,
   "metadata": {},
   "outputs": [
    {
     "name": "stdout",
     "output_type": "stream",
     "text": [
      "เจมส์ รัก ฝน\n",
      "เจมส์ รัก พี่บูม\n",
      "เจมส์ รัก น้องแคมป์\n",
      "เจมส์ รัก แตงโม\n",
      "เจมส์ รัก พี่เจ็ทจะย่อง\n",
      "ฝน รัก เจมส์\n",
      "ฝน รัก พี่บูม\n",
      "ฝน รัก น้องแคมป์\n",
      "ฝน รัก แตงโม\n",
      "ฝน รัก พี่เจ็ทจะย่อง\n",
      "พี่บูม รัก เจมส์\n",
      "พี่บูม รัก ฝน\n",
      "พี่บูม รัก น้องแคมป์\n",
      "พี่บูม รัก แตงโม\n",
      "พี่บูม รัก พี่เจ็ทจะย่อง\n",
      "น้องแคมป์ รัก เจมส์\n",
      "น้องแคมป์ รัก ฝน\n",
      "น้องแคมป์ รัก พี่บูม\n",
      "น้องแคมป์ รัก แตงโม\n",
      "น้องแคมป์ รัก พี่เจ็ทจะย่อง\n",
      "แตงโม รัก เจมส์\n",
      "แตงโม รัก ฝน\n",
      "แตงโม รัก พี่บูม\n",
      "แตงโม รัก น้องแคมป์\n",
      "แตงโม รัก พี่เจ็ทจะย่อง\n",
      "พี่เจ็ทจะย่อง รัก เจมส์\n",
      "พี่เจ็ทจะย่อง รัก ฝน\n",
      "พี่เจ็ทจะย่อง รัก พี่บูม\n",
      "พี่เจ็ทจะย่อง รัก น้องแคมป์\n",
      "พี่เจ็ทจะย่อง รัก แตงโม\n"
     ]
    }
   ],
   "source": [
    "for Name1 in friends:\n",
    "    for Name2 in friends:\n",
    "        if Name1 != Name2:\n",
    "            I_Feel(Name1,Name2,'รัก')"
   ]
  },
  {
   "cell_type": "code",
   "execution_count": 32,
   "metadata": {},
   "outputs": [
    {
     "name": "stdout",
     "output_type": "stream",
     "text": [
      "Yes\n"
     ]
    }
   ],
   "source": [
    "if True:\n",
    "    print('Yes')"
   ]
  },
  {
   "cell_type": "markdown",
   "metadata": {},
   "source": [
    "^^^หมายเหตุ : ถ้าหลัง if ถูกต้องตามเงื่อนไขมันจะทำตามคำสั่ง"
   ]
  },
  {
   "cell_type": "code",
   "execution_count": 33,
   "metadata": {},
   "outputs": [],
   "source": [
    "if False:\n",
    "    print('No')"
   ]
  },
  {
   "cell_type": "markdown",
   "metadata": {},
   "source": [
    "^^^หมายเหตุ : ถ้าหลัง if ไม่ถูกต้องตามเงื่อนไขมันจะไม่ทำตามคำสั่ง"
   ]
  },
  {
   "cell_type": "code",
   "execution_count": 34,
   "metadata": {},
   "outputs": [
    {
     "name": "stdout",
     "output_type": "stream",
     "text": [
      "No\n"
     ]
    }
   ],
   "source": [
    "if False:\n",
    "    print('Yes')\n",
    "else:\n",
    "    print('No')"
   ]
  },
  {
   "cell_type": "markdown",
   "metadata": {},
   "source": [
    "^^^หมายเหตุ : ถ้าหลัง if ไม่ถูกต้องตามเงื่อนไขมันจะไม่ทำตามคำสั่งแรก แต่จะไปเข้าทดสอบเงื่อนไขถัดไปและถ้าถูกต้องมันจึงทำตามคำสั่ง"
   ]
  },
  {
   "cell_type": "code",
   "execution_count": 35,
   "metadata": {},
   "outputs": [
    {
     "name": "stdout",
     "output_type": "stream",
     "text": [
      "1=1\n"
     ]
    }
   ],
   "source": [
    "if 1 == 1:\n",
    "    print('1=1')"
   ]
  },
  {
   "cell_type": "markdown",
   "metadata": {},
   "source": [
    "#### เครื่องหมายน่ารู้ ที่นิยมใช้ในcondition\n",
    "```Python\n",
    "x == y คือ x เท่ากับ y\n",
    "x != y คือ x ไม่เท่ากับ y\n",
    "x >= y คือ x มากกว่าหรือเท่ากับ y\n",
    "x <= y คือ x น้อยกว่าหรือเท่ากับ y\n",
    "x > y คือ x มากกว่า y\n",
    "x < y คือ X น้อยกว่า y\n",
    "```"
   ]
  },
  {
   "cell_type": "markdown",
   "metadata": {},
   "source": [
    "# *Homework\n",
    "#### เขียน function ตัดเกรด โดยที่ input เป็นคะแนน(0-100) output(F-A)\n",
    "กำหนดให้ input = [1, 50, 65, 90, 101, -5, 49]"
   ]
  },
  {
   "cell_type": "code",
   "execution_count": 36,
   "metadata": {},
   "outputs": [],
   "source": [
    "def Grade(score):\n",
    "    if 0 <= score <= 100:\n",
    "        if score < 50:\n",
    "            print(f'{score} ได้เกรด F')\n",
    "        elif 50 >= score < 55:\n",
    "            print(f'{score} ได้เกรด D')\n",
    "        elif 55 >= score < 60:\n",
    "            print(f'{score} ได้เกรด D+')\n",
    "        elif 60 >= score < 65:\n",
    "            print(f'{score} ได้เกรด C')\n",
    "        elif 65 >= score < 70:\n",
    "            print(f'{score} ได้เกรด C+')\n",
    "        elif 70 >= score < 75:\n",
    "            print(f'{score} ได้เกรด B')\n",
    "        elif 75 >= score < 80:\n",
    "            print(f'{score} ได้เกรด B+')\n",
    "        else:\n",
    "            print(f'{score} ได้เกรด A')\n",
    "    else:\n",
    "        print(f'คะแนนไม่ถูกต้อง')"
   ]
  },
  {
   "cell_type": "code",
   "execution_count": 37,
   "metadata": {},
   "outputs": [
    {
     "name": "stdout",
     "output_type": "stream",
     "text": [
      "1 ได้เกรด F\n",
      "50 ได้เกรด D\n",
      "65 ได้เกรด C+\n",
      "90 ได้เกรด A\n",
      "คะแนนไม่ถูกต้อง\n",
      "คะแนนไม่ถูกต้อง\n",
      "49 ได้เกรด F\n"
     ]
    }
   ],
   "source": [
    "Grade(1)\n",
    "Grade(50)\n",
    "Grade(65)\n",
    "Grade(90)\n",
    "Grade(101)\n",
    "Grade(-5)\n",
    "Grade(49)"
   ]
  },
  {
   "cell_type": "markdown",
   "metadata": {},
   "source": [
    "# หรือ"
   ]
  },
  {
   "cell_type": "code",
   "execution_count": 38,
   "metadata": {},
   "outputs": [],
   "source": [
    "Input = [1, 50, 65, 90, 101, -5, 49]"
   ]
  },
  {
   "cell_type": "code",
   "execution_count": 39,
   "metadata": {},
   "outputs": [
    {
     "name": "stdout",
     "output_type": "stream",
     "text": [
      "1 ได้เกรด F\n",
      "50 ได้เกรด D\n",
      "65 ได้เกรด C+\n",
      "90 ได้เกรด A\n",
      "คะแนนไม่ถูกต้อง\n",
      "คะแนนไม่ถูกต้อง\n",
      "49 ได้เกรด F\n"
     ]
    }
   ],
   "source": [
    "for i in Input:\n",
    "    Grade(i)"
   ]
  },
  {
   "cell_type": "markdown",
   "metadata": {},
   "source": [
    "# เสร็จสิ้นจ้า"
   ]
  }
 ],
 "metadata": {
  "kernelspec": {
   "display_name": "Python 3",
   "language": "python",
   "name": "python3"
  },
  "language_info": {
   "codemirror_mode": {
    "name": "ipython",
    "version": 3
   },
   "file_extension": ".py",
   "mimetype": "text/x-python",
   "name": "python",
   "nbconvert_exporter": "python",
   "pygments_lexer": "ipython3",
   "version": "3.7.4"
  }
 },
 "nbformat": 4,
 "nbformat_minor": 2
}
